{
 "cells": [
  {
   "cell_type": "markdown",
   "id": "b837190d",
   "metadata": {},
   "source": [
    "# Vision-based Pose Estimator: demo\n",
    "\n",
    "This notebook demonstrates: \n",
    "- how to load the MH_01_easy dataset using the provided `pose_train` utilities,\n",
    "- run a single forward pass through the model (small CNN or ResNet backbone), and\n",
    "- run a short validation inference to visualize predicted vs ground-truth poses.\n",
    "\n",
    "Adjust the cells below if you want to run a longer training session or evaluate on different cameras."
   ]
  },
  {
   "cell_type": "code",
   "execution_count": null,
   "id": "0aecfb26",
   "metadata": {},
   "outputs": [
    {
     "ename": "ModuleNotFoundError",
     "evalue": "No module named 'matplotlib'",
     "output_type": "error",
     "traceback": [
      "\u001b[31m---------------------------------------------------------------------------\u001b[39m",
      "\u001b[31mModuleNotFoundError\u001b[39m                       Traceback (most recent call last)",
      "\u001b[36mCell\u001b[39m\u001b[36m \u001b[39m\u001b[32mIn[9]\u001b[39m\u001b[32m, line 5\u001b[39m\n\u001b[32m      2\u001b[39m \u001b[38;5;28;01mimport\u001b[39;00m\u001b[38;5;250m \u001b[39m\u001b[34;01msys\u001b[39;00m\n\u001b[32m      3\u001b[39m \u001b[38;5;28;01mfrom\u001b[39;00m\u001b[38;5;250m \u001b[39m\u001b[34;01mpathlib\u001b[39;00m\u001b[38;5;250m \u001b[39m\u001b[38;5;28;01mimport\u001b[39;00m Path\n\u001b[32m----> \u001b[39m\u001b[32m5\u001b[39m \u001b[38;5;28;01mimport\u001b[39;00m\u001b[38;5;250m \u001b[39m\u001b[34;01mmatplotlib\u001b[39;00m\u001b[34;01m.\u001b[39;00m\u001b[34;01mpyplot\u001b[39;00m\u001b[38;5;250m \u001b[39m\u001b[38;5;28;01mas\u001b[39;00m\u001b[38;5;250m \u001b[39m\u001b[34;01mplt\u001b[39;00m\n\u001b[32m      6\u001b[39m \u001b[38;5;28;01mimport\u001b[39;00m\u001b[38;5;250m \u001b[39m\u001b[34;01mnumpy\u001b[39;00m\u001b[38;5;250m \u001b[39m\u001b[38;5;28;01mas\u001b[39;00m\u001b[38;5;250m \u001b[39m\u001b[34;01mnp\u001b[39;00m\n\u001b[32m      8\u001b[39m \u001b[38;5;66;03m# make sure the package path is visible (adjust path if needed)\u001b[39;00m\n",
      "\u001b[31mModuleNotFoundError\u001b[39m: No module named 'matplotlib'"
     ]
    }
   ],
   "source": [
    "# Setup: imports and paths\n",
    "import sys\n",
    "from pathlib import Path\n",
    "import torch\n",
    "import matplotlib.pyplot as plt\n",
    "import numpy as np\n",
    "\n",
    "# make sure the package path is visible (adjust path if needed)\n",
    "project_root = Path('c:/Users/cheta/Downloads/MH_01_easy/mav0').resolve()\n",
    "sys.path.append(str(project_root))\n",
    "\n",
    "from pose_train.dataset import MAVPoseDataset\n",
    "from pose_train.model import SimplePoseNet\n",
    "from pose_train.train import pose_loss\n",
    "\n",
    "print('torch', torch.__version__)\n",
    "print('project root', project_root)"
   ]
  },
  {
   "cell_type": "code",
   "execution_count": null,
   "id": "cb09e6dc",
   "metadata": {},
   "outputs": [],
   "source": [
    "# Preview one sample and run a forward pass\n",
    "data_root = project_root\n",
    "cams = ['cam0']\n",
    "ds = MAVPoseDataset(data_root, cams=cams)\n",
    "print('dataset length:', len(ds))\n",
    "img, pose = ds[0]\n",
    "print('image shape', img.shape)\n",
    "print('pose', pose.numpy())\n",
    "\n",
    "# create model (use 'small' or 'resnet18')\n",
    "model = SimplePoseNet(in_channels=len(cams), backbone='resnet18', pretrained=False)\n",
    "model.eval()\n",
    "with torch.no_grad():\n",
    "    x = img.unsqueeze(0)\n",
    "    out = model(x)\n",
    "    loss, lt, lr = pose_loss(out, pose.unsqueeze(0))\n",
    "    print('out shape', out.shape, 'loss', loss.item())"
   ]
  },
  {
   "cell_type": "code",
   "execution_count": null,
   "id": "71f35bcd",
   "metadata": {},
   "outputs": [],
   "source": [
    "# Short inference over a small validation split and visualization\n",
    "from torch.utils.data import random_split, DataLoader\n",
    "\n",
    "val_size = max(1, int(len(ds) * 0.1))\n",
    "train_size = len(ds) - val_size\n",
    "_, val_ds = random_split(ds, [train_size, val_size])\n",
    "val_loader = DataLoader(val_ds, batch_size=8, shuffle=False, num_workers=0)\n",
    "\n",
    "device = torch.device('cuda' if torch.cuda.is_available() else 'cpu')\n",
    "model = model.to(device)\n",
    "model.eval()\n",
    "preds = []\n",
    "gts = []\n",
    "with torch.no_grad():\n",
    "    for imgs, poses in val_loader:\n",
    "        imgs = imgs.to(device)\n",
    "        out = model(imgs)\n",
    "        preds.append(out.cpu().numpy())\n",
    "        gts.append(poses.numpy())\n",
    "\n",
    "preds = np.vstack(preds)\n",
    "gts = np.vstack(gts)\n",
    "print('preds shape', preds.shape, 'gts shape', gts.shape)\n",
    "\n",
    "# plot X,Y trajectory comparison (ground-truth vs predicted)\n",
    "plt.figure(figsize=(6,6))\n",
    "plt.plot(gts[:,0], gts[:,1], 'g.-', label='gt')\n",
    "plt.plot(preds[:,0], preds[:,1], 'r.-', label='pred')\n",
    "plt.legend()\n",
    "plt.xlabel('x (m)')\n",
    "plt.ylabel('y (m)')\n",
    "plt.title('GT vs Predicted XY trajectory (short val subset)')\n",
    "plt.grid(True)\n",
    "plt.show()\n",
    "\n",
    "# print simple ATE-like metric (translation RMSE)\n",
    "trans_err = np.linalg.norm(preds[:, :3] - gts[:, :3], axis=1)\n",
    "print('translation RMSE (m):', np.sqrt((trans_err ** 2).mean()))"
   ]
  }
 ],
 "metadata": {
  "kernelspec": {
   "display_name": "Python 3",
   "language": "python",
   "name": "python3"
  },
  "language_info": {
   "codemirror_mode": {
    "name": "ipython",
    "version": 3
   },
   "file_extension": ".py",
   "mimetype": "text/x-python",
   "name": "python",
   "nbconvert_exporter": "python",
   "pygments_lexer": "ipython3",
   "version": "3.13.2"
  }
 },
 "nbformat": 4,
 "nbformat_minor": 5
}
